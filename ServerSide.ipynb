{
 "cells": [
  {
   "cell_type": "code",
   "execution_count": 94,
   "metadata": {},
   "outputs": [
    {
     "name": "stdout",
     "output_type": "stream",
     "text": [
      "002320 done.\t009460 done.\t027390 done.\t000720 done.\t267270 done.\t012330 done.\t004560 done.\t057050 done.\t111110 done.\t008770 done.\t298040 done.\t027410 done.\t138930 done.\t000590 done.\t114090 done.\t006360 done.\t105560 done.\t034220 done.\t003300 done.\t051600 done.\t101530 done.\t001450 done.\t241590 done.\t006060 done.\t000850 done.\t016580 done.\t298020 done.\t001040 done.\t037560 done.\t012630 done.\t294870 done.\t025000 done.\t000040 done.\t001120 done.\t023150 done.\t010950 done.\t099350 done.\t293480 done.\t003350 done.\t002390 done.\t010420 done.\t130660 done.\t180640 done.\t009830 done.\t017800 done.\t004020 done.\t068400 done.\t282330 done.\t097950 done.\t016610 done.\t139130 done.\t017940 done.\t078930 done.\t089470 done.\t032560 done.\t298050 done.\t093370 done.\t005010 done.\t069260 done.\t006840 done.\t155660 done.\t001250 done.\t175330 done.\t001060 done.\t119650 done.\t030210 done.\t058850 done.\t051900 done.\t034310 done.\t004060 done.\t009160 done.\t018670 done.\t023000 done.\t001880 done.\t021050 done.\t004360 done.\t004490 done.\t067830 done.\t004430 done.\t005800 done.\t002700 done.\t004770 done.\t002790 done.\t020560 done.\t122900 done.\t003560 done.\t002250 done.\t078520 done.\t036570 done.\t014440 done.\t005390 done.\t006880 done.\t112610 done.\t090430 done.\t002030 done.\t002310 done.\t010780 done.\t018250 done.\t012750 done.\t140910 done.\t015260 done.\t085310 done.\t009970 done.\t017370 done.\t010400 done.\t049800 done.\t014830 done.\t003470 done.\t053210 done.\t003690 done.\t005740 done.\t001420 done.\t028670 done.\t090080 done.\t010100 done.\t053690 done.\t009240 done.\t069640 done.\t014680 done.\t018880 done.\t064350 done.\t011200 done.\t307950 done.\t003010 done.\t002460 done.\t010690 done.\t031430 done.\t003410 done.\t008700 done.\t005850 done.\t023960 done.\t009810 done.\t002630 done.\t001800 done.\t118000 done.\t077500 done.\t102460 done.\t007110 done.\t007570 done.\t044380 done.\t003780 done.\t002780 done.\t029460 done.\t002020 done.\t082740 done.\t001390 done.\t011070 done.\t010060 done.\t001740 done.\t011810 done.\t024070 done.\t011420 done.\t267290 done.\t010130 done.\t002240 done.\t001290 done.\t014530 done.\t013700 done.\t003920 done.\t090350 done.\t004440 done.\t014160 done.\t004090 done.\t002200 done.\t123890 done.\t025890 done.\t020000 done.\t004150 done.\t011700 done.\t006390 done.\t012450 done.\t005440 done.\t267250 done.\t094280 done.\t298000 done.\t005870 done.\t095570 done.\t000990 done.\t069730 done.\t039570 done.\t006280 done.\t008060 done.\t128820 done.\t042660 done.\t192080 done.\t012510 done.\t145720 done.\t016380 done.\t049770 done.\t241560 done.\t034020 done.\t192650 done.\t280360 done.\t001080 done.\t005360 done.\t008420 done.\t085620 done.\t003650 done.\t077970 done.\t000500 done.\t214390 done.\t012200 done.\t002140 done.\t017900 done.\t003580 done.\t004370 done.\t023590 done.\t000490 done.\t000300 done.\t001790 done.\t003490 done.\t003830 done.\t069460 done.\t002150 done.\t083380 done.\t282690 done.\t007590 done.\t102260 done.\t082640 done.\t018500 done.\t001530 done.\t042670 done.\t016740 done.\t024090 done.\t107590 done.\t035150 done.\t002410 done.\t002760 done.\t000890 done.\t003960 done.\t008040 done.\t014710 done.\t001470 done.\t003230 done.\t096760 done.\t044450 done.\t093050 done.\t108670 done.\t051910 done.\t079550 done.\t006260 done.\t035420 done.\t005940 done.\t008260 done.\t002360 done.\t210980 done.\t001510 done.\t000660 done.\t035250 done.\t012610 done.\t009140 done.\t008870 done.\t007460 done.\t004250 done.\t271560 done.\t316140 done.\t010050 done.\t006980 done.\t010600 done.\t093230 done.\t034590 done.\t000230 done.\t020760 done.\t020150 done.\t004700 done.\t100250 done.\t012600 done.\t035720 done.\t009070 done.\t058860 done.\t039490 done.\t015890 done.\t005690 done.\t017810 done.\t000140 done.\t002960 done.\t161390 done.\t007280 done.\t011500 done.\t008930 done.\t004960 done.\t001750 done.\t014130 done.\t052690 done.\t097230 done.\t003480 done.\t088350 done.\t000370 done.\t005420 done.\t071950 done.\t192400 done.\t015590 done.\t006890 done.\t009410 done.\t214420 done.\t084870 done.\t091810 done.\t019490 done.\t000080 done.\t071050 done.\t017960 done.\t024720 done.\t034830 done.\t047810 done.\t016450 done.\t004710 done.\t002170 done.\t002810 done.\t009770 done.\t248170 done.\t003080 done.\t306200 done.\t134790 done.\t011930 done.\t031440 done.\t001720 done.\t001770 done.\t102280 done.\t183190 done.\t161000 done.\t298690 done.\t138250 done.\t000910 done.\t011330 done.\t014580 done.\t026940 done.\t011390 done.\t005090 done.\t028050 done.\t272550 done.\t002450 done.\t004690 done.\t004410 done.\t002820 done.\t000180 done.\t058650 done.\t033530 done.\t027970 done.\t145210 done.\t003620 done.\t004920 done.\t267850 done.\t103590 done.\t226320 done.\t006220 done.\t000650 done.\t033250 done.\t006380 done.\t281820 done.\t033780 done.\t264900 done.\t012170 done.\t055490 done.\t047050 done.\t007630 done.\t103140 done.\t033180 done.\t086790 done.\t172580 done.\t159650 done.\t029780 done.\t000810 done.\t000070 done.\t005680 done.\t003720 done.\t007610 done.\t136490 done.\t091090 done.\t019170 done.\t293940 done.\t055550 done.\t101140 done.\t011090 done.\t012280 done.\t004720 done.\t105840 done.\t005820 done.\t008600 done.\t011690 done.\t008250 done.\t084680 done.\t004910 done.\t000480 done.\t013870 done.\t009310 done.\t002380 done.\t152330 done.\t003070 done.\t144620 done.\t031820 done.\t284740 done.\t140890 done.\t001020 done.\t010770 done.\t005490 done.\t058430 done.\t033660 done.\t001780 done.\t900140 done.\t007310 done.\t079440 done.\t025820 done.\t007660 done.\t129260 done.\t081000 done.\t015860 done.\t033240 done.\t000950 done.\t025620 done.\t030000 done.\t001630 done.\t035000 done.\t109070 done.\t011280 done.\t011170 done.\t002270 done.\t138040 done.\t008560 done.\t012690 done.\t006800 done.\t002840 done.\t003850 done.\t007160 done.\t011230 done.\t041650 done.\t200880 done.\t017390 done.\t011300 done.\t019440 done.\t016590 done.\t002870 done.\t004080 done.\t033270 done.\t047400 done.\t088260 done.\t023800 done.\t249420 done.\t194370 done.\t271980 done.\t001560 done.\t002620 done.\t089590 done.\t018470 done.\t002600 done.\t071320 done.\t088790 done.\t145270 done.\t007810 done.\t192820 done.\t120110 done.\t034120 done.\t017670 done.\t037270 done.\t000050 done.\t004200 done.\t005320 done.\t002720 done.\t001570 done.\t001260 done.\t002070 done.\t002350 done.\t005250 done.\t072710 done.\t058730 done.\t084690 done.\t069620 done.\t006650 done.\t004830 done.\t019180 done.\t036580 done.\t010820 done.\t153360 done.\t152550 done.\t010040 done.\t025540 done.\t161890 done.\t000240 done.\t123690 done.\t014790 done.\t042700 done.\t213500 done.\t009420 done.\t195870 done.\t143210 done.\t079430 done.\t010660 done.\t015760 done.\t003680 done.\t025750 done.\t005110 done.\t000880 done.\t010620 done.\t004310 done.\t126560 done.\t011210 done.\t005380 done.\t011760 done.\t009540 done.\t093240 done.\t004800 done.\t081660 done.\t000540 done.\t003280 done.\t111770 done.\t003520 done.\t000670 done.\t015360 done.\t016880 done.\t103130 done.\t002920 done.\t000220 done.\t000100 done.\t005950 done.\t015020 done.\t014990 done.\t008500 done.\t120030 done.\t185750 done.\t272450 done.\t011000 done.\t030200 done.\t092440 done.\t024110 done.\t008350 done.\t019680 done.\t008110 done.\t005750 done.\t012800 done.\t001130 done.\t024900 done.\t001230 done.\t002690 done.\t000020 done.\t092200 done.\t210540 done.\t032350 done.\t004000 done.\t004990 done.\t094800 done.\t155900 done.\t001340 done.\t007210 done.\t003000 done.\t015350 done.\t100220 done.\t006660 done.\t032830 done.\t009150 done.\t009470 done.\t007540 done.\t008490 done.\t075580 done.\t017550 done.\t035510 done.\t034300 done.\t009270 done.\t005450 done.\t123700 done.\t025530 done.\t003060 done.\t006740 done.\t012160 done.\t070960 done.\t095720 done.\t021240 done.\t000700 done.\t072130 done.\t008730 done.\t214320 done.\t139480 done.\t000760 done.\t006490 done.\t023810 done.\t013360 done.\t003200 done.\t064960 done.\t101060 done.\t001380 done.\t034730 done.\t011790 done.\t014280 done.\t002990 done.\t214330 done.\t004270 done.\t251270 done.\t006370 done.\t000210 done.\t009190 done.\t047040 done.\t001070 done.\t001440 done.\t084010 done.\t016090 done.\t001200 done.\t003460 done.\t003120 done.\t001550 done.\t063160 done.\t010580 done.\t010640 done.\t051630 done.\t044820 done.\t005070 done.\t007980 done.\t078000 done.\t004870 done.\t016800 done.\t005810 done.\t099340 done.\t071090 done.\t005430 done.\t079980 done.\t079160 done.\t012030 done.\t005830 done.\t007700 done.\t007070 done.\t234080 done.\t009440 done.\t032640 done.\t066570 done.\t010120 done.\t071970 done.\t002100 done.\t009290 done.\t030610 done.\t007690 done.\t073240 done.\t000270 done.\t003530 done.\t086280 done.\t069960 done.\t267260 done.\t001500 done.\t227840 done.\t013520 done.\t133820 done.\t001460 done.\t000120 done.\t011150 done.\t004840 done.\t000680 done.\t285130 done.\t000860 done.\t009450 done.\t017040 done.\t037710 done.\t"
     ]
    },
    {
     "name": "stdout",
     "output_type": "stream",
     "text": [
      "138490 done.\t020120 done.\t003240 done.\t004100 done.\t039130 done.\t036460 done.\t006200 done.\t002300 done.\t023350 done.\t000970 done.\t104700 done.\t168490 done.\t060980 done.\t128940 done.\t105630 done.\t009180 done.\t300720 done.\t002220 done.\t026960 done.\t028100 done.\t006040 done.\t003160 done.\t013570 done.\t007340 done.\t026890 done.\t088980 done.\t015540 done.\t090370 done.\t017180 done.\t009680 done.\t134380 done.\t096300 done.\t005180 done.\t018260 done.\t010140 done.\t016360 done.\t092220 done.\t001940 done.\t092230 done.\t003550 done.\t229640 done.\t181710 done.\t100840 done.\t003570 done.\t036530 done.\t006120 done.\t096770 done.\t005610 done.\t002710 done.\t012320 done.\t013580 done.\t001140 done.\t074610 done.\t005720 done.\t092780 done.\t014820 done.\t000150 done.\t011160 done.\t025560 done.\t003610 done.\t006090 done.\t006110 done.\t145990 done.\t010960 done.\t001820 done.\t000390 done.\t075180 done.\t014910 done.\t001430 done.\t003030 done.\t029530 done.\t004170 done.\t003220 done.\t002880 done.\t005880 done.\t001620 done.\t023450 done.\t004140 done.\t000640 done.\t001520 done.\t000400 done.\t023530 done.\t071840 done.\t027740 done.\t204210 done.\t009200 done.\t001270 done.\t006400 done.\t207940 done.\t068290 done.\t009580 done.\t007120 done.\t005030 done.\t079660 done.\t028260 done.\t005930 done.\t001360 done.\t004380 done.\t000520 done.\t005500 done.\t004450 done.\t007860 done.\t004980 done.\t002420 done.\t013000 done.\t021820 done.\t068270 done.\t004970 done.\t025860 done.\t006570 done.\t003090 done.\t000430 done.\t006340 done.\t024890 done.\t005960 done.\t002210 done.\t084670 done.\t008970 done.\t030720 done.\t163560 done.\t286940 done.\t005300 done.\t204320 done.\t000060 done.\t033920 done.\t268280 done.\t083420 done.\t011780 done.\t001210 done.\t004540 done.\t000320 done.\t001680 done.\t117580 done.\t016710 done.\t003540 done.\t009320 done.\t015230 done.\t083370 done.\t005190 done.\t170900 done.\t030790 done.\t002900 done.\t004890 done.\t115390 done.\t065570 done.\t032280 done.\t002290 done.\t037460 done.\t032750 done.\t046390 done.\t091580 done.\t089980 done.\t038070 done.\t018680 done.\t189860 done.\t178320 done.\t015750 done.\t017510 done.\t058530 done.\t115570 done.\t025870 done.\t036710 done.\t101240 done.\t047920 done.\t013990 done.\t052710 done.\t092040 done.\t038880 done.\t065660 done.\t174900 done.\t275630 done.\t041510 done.\t288620 done.\t088800 done.\t138360 done.\t048550 done.\t048770 done.\t073570 done.\t078890 done.\t217730 done.\t011040 done.\t098460 done.\t038530 done.\t090150 done.\t066620 done.\t078130 done.\t019010 done.\t900070 done.\t036800 done.\t091590 done.\t253590 done.\t095660 done.\t153460 done.\t285490 done.\t065560 done.\t060260 done.\t064260 done.\t093640 done.\t032190 done.\t008830 done.\t007680 done.\t048910 done.\t100130 done.\t041930 done.\t228340 done.\t263720 done.\t040350 done.\t114120 done.\t083790 done.\t237880 done.\t053620 done.\t066700 done.\t196450 done.\t246710 done.\t131290 done.\t062860 done.\t054300 done.\t263750 done.\t016670 done.\t022100 done.\t189690 done.\t023770 done.\t131390 done.\t064800 done.\t261200 done.\t053300 done.\t025770 done.\t310870 done.\t030520 done.\t226440 done.\t042520 done.\t024740 done.\t079170 done.\t102210 done.\t220630 done.\t053660 done.\t060560 done.\t108790 done.\t115310 done.\t039290 done.\t234920 done.\t040420 done.\t090470 done.\t052670 done.\t023440 done.\t228760 done.\t043610 done.\t111820 done.\t094850 done.\t071850 done.\t115500 done.\t025880 done.\t047770 done.\t080530 done.\t078650 done.\t049430 done.\t041960 done.\t056360 done.\t200130 done.\t225650 done.\t043590 done.\t110790 done.\t311270 done.\t219130 done.\t191420 done.\t131970 done.\t079970 done.\t033830 done.\t090360 done.\t900260 done.\t012700 done.\t277070 done.\t147760 done.\t086900 done.\t078160 done.\t140410 done.\t100030 done.\t087260 done.\t064520 done.\t064550 done.\t044480 done.\t043150 done.\t225530 done.\t014100 done.\t014470 done.\t064480 done.\t200780 done.\t138580 done.\t238200 done.\t054090 done.\t024950 done.\t017480 done.\t006730 done.\t079650 done.\t140070 done.\t045300 done.\t049180 done.\t268600 done.\t032680 done.\t251370 done.\t114630 done.\t215360 done.\t037400 done.\t114190 done.\t112040 done.\t018000 done.\t011320 done.\t069330 done.\t049520 done.\t258610 done.\t900110 done.\t123570 done.\t095190 done.\t016250 done.\t134060 done.\t001840 done.\t060150 done.\t035080 done.\t189300 done.\t175140 done.\t041020 done.\t071200 done.\t068330 done.\t950140 done.\t049630 done.\t110020 done.\t208140 done.\t045510 done.\t095700 done.\t033340 done.\t091340 done.\t036540 done.\t040300 done.\t192410 done.\t212560 done.\t092730 done.\t290660 done.\t139670 done.\t137940 done.\t054050 done.\t040160 done.\t048470 done.\t290670 done.\t077360 done.\t194480 done.\t006620 done.\t094170 done.\t013120 done.\t109860 done.\t025900 done.\t078590 done.\t217620 done.\t105740 done.\t069540 done.\t228850 done.\t038060 done.\t085370 done.\t058470 done.\t131100 done.\t219420 done.\t098120 done.\t191410 done.\t215790 done.\t080010 done.\t047560 done.\t052190 done.\t102710 done.\t096040 done.\t049550 done.\t079370 done.\t126880 done.\t094970 done.\t080220 done.\t034940 done.\t036930 done.\t065060 done.\t106080 done.\t109820 done.\t004650 done.\t042040 done.\t054410 done.\t220260 done.\t009730 done.\t069110 done.\t166480 done.\t033290 done.\t121850 done.\t126600 done.\t045340 done.\t108230 done.\t105550 done.\t026150 done.\t115180 done.\t016600 done.\t900250 done.\t104480 done.\t081150 done.\t049120 done.\t043090 done.\t027710 done.\t060900 done.\t023900 done.\t051380 done.\t241820 done.\t054340 done.\t031980 done.\t087600 done.\t066130 done.\t271740 done.\t054040 done.\t050540 done.\t222810 done.\t005860 done.\t054920 done.\t097870 done.\t060310 done.\t023460 done.\t068790 done.\t060720 done.\t052900 done.\t036030 done.\t040610 done.\t049470 done.\t134780 done.\t065510 done.\t010240 done.\t306620 done.\t032860 done.\t028150 done.\t078150 done.\t095340 done.\t099520 done.\t044180 done.\t035600 done.\t058400 done.\t060370 done.\t160550 done.\t053290 done.\t030190 done.\t019550 done.\t232330 done.\t161570 done.\t052220 done.\t014570 done.\t053270 done.\t053260 done.\t036190 done.\t151910 done.\t190510 done.\t087730 done.\t225570 done.\t104620 done.\t270870 done.\t119860 done.\t183300 done.\t950160 done.\t015710 done.\t066310 done.\t045520 done.\t214150 done.\t054780 done.\t095610 done.\t089030 done.\t054450 done.\t091440 done.\t200230 done.\t215480 done.\t177830 done.\t047310 done.\t123260 done.\t094940 done.\t220100 done.\t035200 done.\t137400 done.\t006140 done.\t149980 done.\t126700 done.\t034950 done.\t281410 done.\t052600 done.\t092460 done.\t265920 done.\t115160 done.\t037070 done.\t150900 done.\t032800 done.\t005670 done.\t007330 done.\t203690 done.\t024850 done.\t270520 done.\t200470 done.\t222980 done.\t063570 done.\t041460 done.\t078350 done.\t007770 done.\t086960 done.\t279410 done.\t076610 done.\t900270 done.\t039610 done.\t204630 done.\t200670 done.\t054620 done.\t035760 done.\t058820 done.\t065770 done.\t037370 done.\t036640 done.\t297570 done.\t046440 done.\t122450 done.\t114450 done.\t272290 done.\t033110 done.\t065440 done.\t226360 done.\t094190 done.\t099750 done.\t058450 done.\t065530 done.\t065620 done.\t122310 done.\t187420 done.\t159580 done.\t033100 done.\t033320 done.\t036420 done.\t082270 done.\t054180 done.\t114570 done.\t066360 done.\t047820 done.\t043290 done.\t093320 done.\t105330 done.\t078940 done.\t104540 done.\t036690 done.\t089890 done.\t222040 done.\t241710 done.\t029960 done.\t052330 done.\t048430 done.\t056090 done.\t060230 done.\t053350 done.\t078020 done.\t024810 done.\t041830 done.\t079950 done.\t037330 done.\t119610 done.\t017250 done.\t051370 done.\t019540 done.\t123330 done.\t033050 done.\t044060 done.\t204840 done.\t018290 done.\t219750 done.\t018120 done.\t085660 done.\t078340 done.\t221980 done.\t250930 done.\t089150 done.\t039420 done.\t225430 done.\t256940 done.\t224060 done.\t101670 done.\t060280 done.\t193250 done.\t079000 done.\t046940 done.\t038620 done.\t142210 done.\t032620 done.\t287410 done.\t313750 done.\t044960 done.\t088390 done.\t115610 done.\t067010 done.\t223310 done.\t039030 done.\t181340 done.\t064290 done.\t101930 done.\t043910 done.\t072520 done.\t147830 done.\t054950 done.\t038010 done.\t119850 done.\t115450 done.\t007370 done.\t900040 done.\t180400 done.\t258790 done.\t073010 done.\t032500 done.\t027050 done.\t038390 done.\t016100 done.\t038290 done.\t127160 done.\t257370 done.\t250060 done.\t049950 done.\t213090 done.\t206640 done.\t084990 done.\t008470 done.\t122350 done.\t023600 done.\t009300 done.\t080470 done.\t214310 done.\t011560 done.\t258830 done.\t299660 done.\t208370 done.\t066910 done.\t049830 done.\t217330 done.\t208640 done.\t136510 done.\t036170 done.\t040910 done.\t031310 done.\t119830 done.\t096610 done.\t061040 done.\t196700 done.\t069080 done.\t053580 done.\t044340 done.\t097800 done.\t900340 done.\t264450 done.\t078070 done.\t084370 done.\t179900 done.\t039020 done.\t067920 done.\t302430 done.\t054210 done.\t036260 done.\t086890 done.\t088290 done.\t033230 done.\t049070 done.\t158310 done.\t022220 done.\t019570 done.\t026040 done.\t058420 done.\t089790 done.\t101730 done.\t263860 done.\t086060 done.\t036890 done.\t050110 done.\t024880 done.\t051980 done.\t072020 done.\t051160 done.\t013720 done.\t094360 done.\t016920 done.\t900310 done.\t263700 done.\t317030 done.\t192250 done.\t217600 done.\t051780 done.\t044490 done.\t057880 done.\t084730 done.\t033540 done.\t214450 done.\t170790 done.\t087010 done.\t043370 done.\t290720 done.\t053160 done.\t075130 done.\t166090 done.\t106190 done.\t025550 done.\t039740 done.\t021650 done.\t039670 done.\t045100 done.\t066110 done.\t093520 done.\t072870 done.\t058110 done.\t096640 done.\t149940 done.\t239340 done.\t018700 done.\t086820 done.\t267790 done.\t046310 done.\t006910 done.\t054220 done.\t082660 done.\t042940 done.\t027040 done.\t122690 done.\t035890 done.\t014620 done.\t053060 done.\t100700 done.\t039310 done.\t053110 done.\t036830 done.\t269620 done.\t012790 done.\t138070 done.\t122800 done.\t050890 done.\t222080 done.\t900120 done.\t060590 done.\t"
     ]
    },
    {
     "name": "stdout",
     "output_type": "stream",
     "text": [
      "196170 done.\t085810 done.\t131400 done.\t121890 done.\t112240 done.\t160600 done.\t263920 done.\t096630 done.\t098660 done.\t176440 done.\t021080 done.\t089970 done.\t064510 done.\t230360 done.\t036810 done.\t205100 done.\t061970 done.\t138690 done.\t090740 done.\t007530 done.\t045060 done.\t048260 done.\t138080 done.\t049480 done.\t153710 done.\t019210 done.\t014190 done.\t008290 done.\t095270 done.\t065950 done.\t036090 done.\t037440 done.\t241520 done.\t254120 done.\t264850 done.\t276920 done.\t036120 done.\t099220 done.\t307070 done.\t057500 done.\t036490 done.\t079940 done.\t039240 done.\t121440 done.\t267320 done.\t043650 done.\t204620 done.\t019660 done.\t091970 done.\t051490 done.\t242040 done.\t138610 done.\t007390 done.\t033640 done.\t144510 done.\t036480 done.\t303030 done.\t108380 done.\t065690 done.\t140520 done.\t131220 done.\t090410 done.\t204990 done.\t092300 done.\t064240 done.\t126640 done.\t290270 done.\t024060 done.\t238490 done.\t245620 done.\t079190 done.\t900290 done.\t067290 done.\t035900 done.\t218410 done.\t255220 done.\t246690 done.\t053950 done.\t198440 done.\t049720 done.\t307870 done.\t215000 done.\t035460 done.\t130580 done.\t111710 done.\t072770 done.\t065170 done.\t069140 done.\t017650 done.\t307750 done.\t020180 done.\t021040 done.\t067080 done.\t007820 done.\t234300 done.\t039440 done.\t043340 done.\t039230 done.\t028300 done.\t045660 done.\t086520 done.\t950130 done.\t092870 done.\t256840 done.\t208860 done.\t206400 done.\t069410 done.\t058630 done.\t143540 done.\t900300 done.\t010470 done.\t052420 done.\t039200 done.\t031510 done.\t232140 done.\t122870 done.\t032820 done.\t115440 done.\t046970 done.\t082850 done.\t215380 done.\t101160 done.\t076080 done.\t036200 done.\t051500 done.\t083660 done.\t130500 done.\t083450 done.\t024120 done.\t083470 done.\t060250 done.\t032540 done.\t038340 done.\t051390 done.\t094480 done.\t063080 done.\t307280 done.\t089600 done.\t085910 done.\t031390 done.\t142280 done.\t012340 done.\t085670 done.\t078140 done.\t071460 done.\t010170 done.\t023910 done.\t213420 done.\t206560 done.\t066900 done.\t092070 done.\t039840 done.\t033130 done.\t263020 done.\t290550 done.\t253450 done.\t017000 done.\t066790 done.\t264660 done.\t096530 done.\t246720 done.\t067390 done.\t154030 done.\t227610 done.\t226350 done.\t052460 done.\t038680 done.\t073070 done.\t065420 done.\t041910 done.\t044780 done.\t214870 done.\t038110 done.\t054940 done.\t217820 done.\t256630 done.\t083310 done.\t037950 done.\t097520 done.\t082210 done.\t153490 done.\t066590 done.\t192390 done.\t089850 done.\t024800 done.\t178780 done.\t090460 done.\t042370 done.\t065450 done.\t100090 done.\t009620 done.\t111870 done.\t309930 done.\t038500 done.\t019770 done.\t003100 done.\t123420 done.\t171090 done.\t067770 done.\t053450 done.\t108860 done.\t154040 done.\t084180 done.\t159910 done.\t277480 done.\t108320 done.\t010280 done.\t037760 done.\t225330 done.\t260930 done.\t025980 done.\t127710 done.\t054800 done.\t214430 done.\t114810 done.\t185490 done.\t059100 done.\t058220 done.\t050860 done.\t068940 done.\t052860 done.\t124500 done.\t013310 done.\t053800 done.\t131370 done.\t140670 done.\t123750 done.\t117670 done.\t042110 done.\t095910 done.\t069510 done.\t050760 done.\t298380 done.\t043220 done.\t230240 done.\t101400 done.\t066970 done.\t019590 done.\t036560 done.\t122640 done.\t053980 done.\t241790 done.\t173130 done.\t226950 done.\t057540 done.\t123010 done.\t122990 done.\t066430 done.\t109960 done.\t247540 done.\t073540 done.\t273060 done.\t183490 done.\t073110 done.\t170920 done.\t179290 done.\t032790 done.\t115960 done.\t265560 done.\t036000 done.\t053280 done.\t046120 done.\t014940 done.\t065500 done.\t057680 done.\t109080 done.\t041190 done.\t072470 done.\t073560 done.\t032940 done.\t012620 done.\t086390 done.\t206650 done.\t263770 done.\t195990 done.\t263050 done.\t073490 done.\t091120 done.\t216050 done.\t035610 done.\t020710 done.\t025320 done.\t215600 done.\t065350 done.\t056000 done.\t222420 done.\t099320 done.\t049960 done.\t115530 done.\t036010 done.\t101390 done.\t078860 done.\t059120 done.\t067160 done.\t030270 done.\t900080 done.\t056190 done.\t080440 done.\t054630 done.\t003800 done.\t072990 done.\t083500 done.\t096870 done.\t123040 done.\t067170 done.\t067900 done.\t074600 done.\t104830 done.\t030530 done.\t008370 done.\t027360 done.\t001540 done.\t205500 done.\t097780 done.\t103230 done.\t060540 done.\t080000 done.\t237690 done.\t050320 done.\t067630 done.\t239610 done.\t071670 done.\t182400 done.\t128540 done.\t173940 done.\t065160 done.\t290650 done.\t009780 done.\t204020 done.\t259630 done.\t036180 done.\t080520 done.\t039830 done.\t057030 done.\t101170 done.\t065680 done.\t018620 done.\t240810 done.\t299900 done.\t136540 done.\t241690 done.\t203450 done.\t054930 done.\t023410 done.\t056080 done.\t246960 done.\t041520 done.\t063760 done.\t035810 done.\t090850 done.\t092130 done.\t277410 done.\t083640 done.\t150840 done.\t048530 done.\t094820 done.\t174880 done.\t217190 done.\t096690 done.\t137950 done.\t067000 done.\t000440 done.\t208350 done.\t053050 done.\t278280 done.\t096240 done.\t042000 done.\t214370 done.\t083550 done.\t064820 done.\t089010 done.\t094860 done.\t088130 done.\t104460 done.\t110990 done.\t214680 done.\t109740 done.\t033430 done.\t227100 done.\t050120 done.\t217500 done.\t238120 done.\t071280 done.\t227950 done.\t267980 done.\t041920 done.\t059210 done.\t080160 done.\t033200 done.\t118990 done.\t028040 done.\t100790 done.\t201490 done.\t177350 done.\t250000 done.\t251630 done.\t033560 done.\t141000 done.\t082920 done.\t032850 done.\t072950 done.\t014970 done.\t225190 done.\t219550 done.\t104200 done.\t046140 done.\t178920 done.\t052260 done.\t052300 done.\t024910 done.\t049080 done.\t121600 done.\t042420 done.\t041140 done.\t217270 done.\t194700 done.\t039560 done.\t068240 done.\t104040 done.\t262830 done.\t005710 done.\t290380 done.\t054670 done.\t025950 done.\t032960 done.\t073190 done.\t060570 done.\t127120 done.\t134580 done.\t113810 done.\t043360 done.\t068930 done.\t171010 done.\t033600 done.\t099190 done.\t032080 done.\t260660 done.\t148250 done.\t290740 done.\t238090 done.\t255440 done.\t030960 done.\t102120 done.\t019990 done.\t041440 done.\t101490 done.\t031330 done.\t109610 done.\t052020 done.\t058610 done.\t200710 done.\t224110 done.\t089530 done.\t038870 done.\t064090 done.\t067570 done.\t031860 done.\t310840 done.\t048830 done.\t156100 done.\t033160 done.\t226400 done.\t080580 done.\t052770 done.\t155650 done.\t004780 done.\t025440 done.\t027830 done.\t006580 done.\t120240 done.\t003310 done.\t035290 done.\t033500 done.\t060380 done.\t079960 done.\t023790 done.\t030350 done.\t203650 done.\t066670 done.\t263690 done.\t131030 done.\t101000 done.\t033310 done.\t084650 done.\t108490 done.\t035480 done.\t005990 done.\t067280 done.\t218150 done.\t035620 done.\t208710 done.\t086040 done.\t093190 done.\t018310 done.\t291230 done.\t038540 done.\t043200 done.\t038950 done.\t106240 done.\t225590 done.\t068050 done.\t222110 done.\t141020 done.\t093380 done.\t032580 done.\t002230 done.\t067310 done.\t307160 done.\t136480 done.\t013030 done.\t039340 done.\t017890 done.\t080720 done.\t037230 done.\t070590 done.\t264290 done.\t220180 done.\t170030 done.\t011080 done.\t028080 done.\t084110 done.\t211270 done.\t299170 done.\t950170 done.\t021320 done.\t036670 done.\t151860 done.\t067990 done.\t005160 done.\t086450 done.\t005290 done.\t090710 done.\t131180 done.\t171120 done.\t067730 done.\t082800 done.\t042500 done.\t100590 done.\t215200 done.\t241770 done.\t006920 done.\t310200 done.\t207760 done.\t053030 done.\t032980 done.\t148140 done.\t083650 done.\t143240 done.\t073640 done.\t027580 done.\t263810 done.\t042600 done.\t093920 done.\t065710 done.\t043260 done.\t024830 done.\t068760 done.\t050960 done.\t139050 done.\t017680 done.\t075970 done.\t088910 done.\t187870 done.\t196490 done.\t079810 done.\t197140 done.\t042510 done.\t141080 done.\t060300 done.\t215100 done.\t060240 done.\t039980 done.\t197210 done.\t141070 done.\t133750 done.\t065650 done.\t021880 done.\t001810 done.\t095500 done.\t265480 done.\t059090 done.\t214180 done.\t142760 done.\t065940 done.\t036620 done.\t066410 done.\t299910 done.\t100120 done.\t066980 done.\t045970 done.\t102940 done.\t023160 done.\t182690 done.\t037030 done.\t131760 done.\t091700 done.\t194510 done.\t009520 done.\t003670 done.\t195440 done.\t214270 done.\t003380 done.\t221840 done.\t004590 done.\t101680 done.\t053590 done.\t047080 done.\t215090 done.\t077280 done.\t002680 done.\t034810 done.\t048410 done.\t039010 done.\t061250 done.\t050090 done.\t205470 done.\t243070 done.\t189980 done.\t265520 done.\t045890 done.\t065150 done.\t024940 done.\t950110 done.\t184230 done.\t063440 done.\t289080 done.\t089230 done.\t024840 done.\t900280 done.\t014200 done.\t026910 done.\t006050 done.\t060480 done.\t187790 done.\t039860 done.\t293580 done.\t168330 done.\t089140 done.\t126870 done.\t144960 done.\t900100 done.\t020400 done.\t007720 done.\t045390 done.\t290120 done.\t078600 done.\t096350 done.\t263600 done.\t263800 done.\t099410 done.\t281740 done.\t052400 done.\t046070 done.\t123410 done.\t182360 done.\t065130 done.\t051360 done.\t117730 done.\t064760 done.\t130740 done.\t046210 done.\t034230 done.\t208340 done.\t140860 done.\t038160 done.\t119500 done.\t056730 done.\t053610 done.\t237750 done.\t128660 done.\t161580 done.\t284620 done.\t291210 done.\t023760 done.\t070300 done.\t221610 done.\t046110 done.\t123840 done.\t016790 done.\t026180 done.\t086250 done.\t145020 done.\t106520 done.\t187220 done.\t080420 done.\t101330 done.\t029480 done.\t038460 done.\t226340 done.\t121800 done.\t086670 done.\t053700 done.\t054540 done.\t000250 done.\t043710 done.\t063170 done.\t011370 done.\t037350 done.\t081580 done.\t036630 done.\t099440 done.\t033790 done.\t008800 done.\t013810 done.\t033170 done.\t048870 done.\t002800 done.\t307180 done.\t056700 done.\t243840 done.\t123860 done.\t125210 done.\t143160 done.\t263540 done.\t100660 done.\t012860 done.\t046890 done.\t234100 done.\t252500 done.\t091990 done.\t043100 done.\t230980 done.\t086980 done.\t236200 done.\t094840 done.\t192440 done.\t131090 done.\t001000 done.\t257730 done.\t187270 done.\t222800 done.\t160980 done.\t115480 done.\t074430 done.\t083930 done.\t149950 done.\t069920 done.\t175250 done.\t023890 done.\t196300 done.\t052790 done.\t092600 done.\t041590 done.\t217480 done.\t"
     ]
    }
   ],
   "source": [
    "import requests\n",
    "import pandas as pd\n",
    "import numpy as np\n",
    "import matplotlib.pyplot as plt\n",
    "from multiprocessing import Pool, cpu_count\n",
    "import FinanceDataReader as fdr\n",
    "\n",
    "\n",
    "import requests\n",
    "import pandas as pd\n",
    "\n",
    "\n",
    "def stock_to_df(code):\n",
    "    stock = code\n",
    "    response = requests.get(\"https://m.stock.naver.com/api/item/getPriceDayList.nhn?code={}&pageSize=10000&page=1\".format(stock))\n",
    "\n",
    "    df_stock = pd.DataFrame(response.json()[\"result\"][\"list\"])\n",
    "    df_stock.index = pd.to_datetime(df_stock[\"dt\"], format=\"%Y%m%d\").reset_index(drop=True)\n",
    "    df_stock = df_stock.sort_index().drop(\"dt\", axis=1)\n",
    "    print(\"{} done.\".format(code), end=\"\\t\")\n",
    "    return df_stock\n",
    "\n",
    "def pool_crawl(stock_list):\n",
    "    pool = Pool(processes=(cpu_count() - 1))\n",
    "    results = pool.map(stock_to_df, stock_list)\n",
    "    pool.close()\n",
    "    pool.join()\n",
    "    return results\n",
    "\n",
    "\n",
    "\n",
    "\n",
    "kospi_info = pd.read_csv(\"./market_info/kospi.csv\", index_col=0)\n",
    "kosdaq_info = pd.read_csv(\"./market_info/kosdaq.csv\", index_col=0)\n",
    "date_info = pd.read_csv(\"./market_info/date_df.csv\", index_col=0)[\"dt\"]\n",
    "date_info = pd.to_datetime(date_info, format=\"%Y%m%d\").sort_values(ascending=True).reset_index(drop=True)\n",
    "\n",
    "kospi_list = fdr.StockListing(\"KOSPI\")[\"Symbol\"]\n",
    "kosdaq_list = fdr.StockListing(\"KOSDAQ\")[\"Symbol\"]\n",
    "\n",
    "df_kospi = pool_crawl(kospi_list)\n",
    "df_kosdaq = pool_crawl(kosdaq_list)\n",
    "\n",
    "df_open_kospi = pd.DataFrame(columns=kospi_list, index=date_info)\n",
    "df_close_kospi = pd.DataFrame(columns=kospi_list, index=date_info)\n",
    "df_high_kospi = pd.DataFrame(columns=kospi_list, index=date_info)\n",
    "df_low_kospi = pd.DataFrame(columns=kospi_list, index=date_info)\n",
    "df_rtn_kospi = pd.DataFrame(columns=kospi_list, index=date_info)\n",
    "df_vol_kospi = pd.DataFrame(columns=kospi_list, index=date_info)\n",
    "\n",
    "\n",
    "df_open_kosdaq = pd.DataFrame(columns=kosdaq_list, index=date_info)\n",
    "df_close_kosdaq = pd.DataFrame(columns=kosdaq_list, index=date_info)\n",
    "df_high_kosdaq = pd.DataFrame(columns=kosdaq_list, index=date_info)\n",
    "df_low_kosdaq = pd.DataFrame(columns=kosdaq_list, index=date_info)\n",
    "df_rtn_kosdaq = pd.DataFrame(columns=kosdaq_list, index=date_info)\n",
    "df_vol_kosdaq = pd.DataFrame(columns=kosdaq_list, index=date_info)\n",
    "\n",
    "for x, y in zip(df_kospi, kospi_list):\n",
    "    df_open_kospi[y] = x[\"ov\"]\n",
    "    df_close_kospi[y] = x[\"ncv\"]\n",
    "    df_high_kospi[y] = x[\"hv\"]\n",
    "    df_low_kospi[y] = x[\"lv\"]\n",
    "    df_rtn_kospi[y] = x[\"cr\"] / 100\n",
    "    df_vol_kospi[y] = x[\"aq\"]\n",
    "\n",
    "for x, y in zip(df_kosdaq, kosdaq_list):\n",
    "    df_open_kosdaq[y] = x[\"ov\"]\n",
    "    df_close_kosdaq[y] = x[\"ncv\"]\n",
    "    df_high_kosdaq[y] = x[\"hv\"]\n",
    "    df_low_kosdaq[y] = x[\"lv\"]\n",
    "    df_rtn_kosdaq[y] = x[\"cr\"] / 100\n",
    "    df_vol_kospi[y] = x[\"aq\"]"
   ]
  },
  {
   "cell_type": "code",
   "execution_count": 95,
   "metadata": {},
   "outputs": [],
   "source": [
    "import requests\n",
    "import FinanceDataReader as fdr\n",
    "from bs4 import BeautifulSoup\n",
    "\n",
    "listings = fdr.StockListing(\"KRX\")\n",
    "\n",
    "pages = range(1, 22)\n",
    "kospi_200 = list()\n",
    "for x in pages:\n",
    "    url = \"http://finance.naver.com/sise/entryJongmok.nhn?&page={}\".format(x)\n",
    "    result = requests.get(url)\n",
    "    soup = BeautifulSoup(result.text, \"lxml\")\n",
    "    items = soup.find_all(\"td\", {\"class\": \"ctg\"})\n",
    "    for item in items:\n",
    "        kospi_200.append(item.text)\n",
    "kospi_200 = set(kospi_200)\n",
    "kospi_200_codes = listings[listings[\"Name\"].isin(kospi_200)][\"Symbol\"].astype(\"str\").reset_index(drop=True)\n",
    "\n",
    "kospi_200_codes.to_csv(\"./kospi_200_list/kospi_200_list.csv\")"
   ]
  },
  {
   "cell_type": "code",
   "execution_count": 102,
   "metadata": {},
   "outputs": [
    {
     "data": {
      "text/plain": [
       "201"
      ]
     },
     "execution_count": 102,
     "metadata": {},
     "output_type": "execute_result"
    }
   ],
   "source": [
    "len(kospi_200)"
   ]
  },
  {
   "cell_type": "code",
   "execution_count": null,
   "metadata": {},
   "outputs": [],
   "source": [
    "from sklear.decomposition import PCA"
   ]
  },
  {
   "cell_type": "code",
   "execution_count": 202,
   "metadata": {},
   "outputs": [],
   "source": [
    "df_kospi_200 = df_rtn_kospi[kospi_200_codes]\n",
    "df_kospi_200_otoc = df_close_kospi / df_open_kospi - 1\n",
    "df_kospi_200_otoc = df_kospi_200_otoc.loc[\"2009-01-01\":, kospi_200_codes]"
   ]
  },
  {
   "cell_type": "code",
   "execution_count": 212,
   "metadata": {},
   "outputs": [],
   "source": [
    "df_kospi_200_otoc = df_kospi_200_otoc[np.isfinite(df_kospi_200_otoc)]"
   ]
  },
  {
   "cell_type": "code",
   "execution_count": 631,
   "metadata": {},
   "outputs": [
    {
     "name": "stdout",
     "output_type": "stream",
     "text": [
      "300\n",
      "400\n",
      "500\n",
      "600\n",
      "700\n",
      "800\n",
      "900\n",
      "1000\n",
      "1100\n",
      "1200\n",
      "1300\n",
      "1400\n",
      "1500\n",
      "1600\n",
      "1700\n",
      "1800\n",
      "1900\n",
      "2000\n",
      "2100\n",
      "2200\n",
      "2300\n",
      "2400\n",
      "2500\n"
     ]
    }
   ],
   "source": [
    "from sklearn.decomposition import PCA\n",
    "\n",
    "df_kospi_test = df_kospi_200.loc[\"2009-01-01\":]\n",
    "test_period = df_kospi_test.index[df_kospi_test.index > \"2010-01-01\"]\n",
    "df_weights = pd.DataFrame(columns=df_kospi_test.columns, index=df_kospi_test.index)\n",
    "target_month_prev = 0\n",
    "window = 252\n",
    "for x in range(window, df_kospi_test.shape[0]):\n",
    "    target_df = df_kospi_test.iloc[x-window:x].dropna(how=\"all\", axis=1).fillna(0)\n",
    "    target_columns = target_df.columns\n",
    "    target_date = target_df.index[-1]\n",
    "    target_month = target_date.month\n",
    "#     if target_month != target_month_prev:\n",
    "    pca = PCA(n_components=10)\n",
    "    df_transform = pca.fit_transform(target_df)\n",
    "    df_transform = pca.inverse_transform(df_transform)\n",
    "    df_weights.loc[target_date, target_columns] = df_transform[-1]\n",
    "    target_month_prev = target_date.month\n",
    "    if x % 100 == 0:\n",
    "        print(x)"
   ]
  },
  {
   "cell_type": "code",
   "execution_count": 632,
   "metadata": {},
   "outputs": [
    {
     "data": {
      "text/plain": [
       "(186,)"
      ]
     },
     "execution_count": 632,
     "metadata": {},
     "output_type": "execute_result"
    }
   ],
   "source": [
    "df_transform[-1].shape"
   ]
  },
  {
   "cell_type": "code",
   "execution_count": 663,
   "metadata": {},
   "outputs": [],
   "source": [
    "df_alpha = (df_kospi_test - df_weights)\n",
    "df_alpha = df_weights.loc[\"2010-01-01\":]\n",
    "# df_alpha = df_alpha.add(abs(df_alpha.min(axis=1)), axis=0)\n",
    "df_alpha = df_alpha.rank(axis=1)\n",
    "# df_alpha = df_alpha.divide(df_alpha.sum(axis=1), axis=0)\n",
    "df_alpha = df_alpha.sub(df_alpha.mean(axis=1), axis=0)\n",
    "df_alpha = df_alpha.div(df_alpha.abs().sum(axis=1), axis=0)\n",
    "df_alpha = df_alpha.ffill()\n",
    "df_alpha = df_alpha.shift(1)"
   ]
  },
  {
   "cell_type": "code",
   "execution_count": 664,
   "metadata": {},
   "outputs": [
    {
     "name": "stdout",
     "output_type": "stream",
     "text": [
      "Index(['000720', '064350', '025860', '006360', '052690', '042670', '001230',\n",
      "       '008770', '004020', '005940', '047040', '003300', '004170', '071050',\n",
      "       '010120', '192820', '006260', '000210', '034020', '001520'],\n",
      "      dtype='object', name='Symbol')\n",
      "Index(['073240', '079550', '282330', '019680', '047810', '007070', '012450',\n",
      "       '032640', '316140', '000240', '064960', '009240', '097230', '017670',\n",
      "       '002960', '192400', '161390', '026960', '060980', '057050'],\n",
      "      dtype='object', name='Symbol')\n"
     ]
    }
   ],
   "source": [
    "print(df_alpha.iloc[-1].nlargest(20).index)\n",
    "print(df_alpha.iloc[-1].nsmallest(20).index)"
   ]
  },
  {
   "cell_type": "code",
   "execution_count": 665,
   "metadata": {},
   "outputs": [],
   "source": [
    "df_alpha = df_alpha.rolling(5).mean()"
   ]
  },
  {
   "cell_type": "code",
   "execution_count": 666,
   "metadata": {},
   "outputs": [
    {
     "name": "stdout",
     "output_type": "stream",
     "text": [
      "-1697966.409923698\n",
      "3496359.7378073544\n",
      "-0.4856383602530931\n"
     ]
    },
    {
     "data": {
      "text/plain": [
       "<matplotlib.axes._subplots.AxesSubplot at 0x7fbb25b9d198>"
      ]
     },
     "execution_count": 666,
     "metadata": {},
     "output_type": "execute_result"
    },
    {
     "data": {
      "image/png": "[encoded data removed]",
      "text/plain": [
       "<Figure size 432x288 with 1 Axes>"
      ]
     },
     "metadata": {},
     "output_type": "display_data"
    }
   ],
   "source": [
    "pnl = (df_alpha*100000000).multiply(df_kospi_test.loc[\"2010-01-01\":])\n",
    "pnl[pnl > 0] = pnl[pnl > 0] * 0.997\n",
    "pnl[pnl < 0] = pnl[pnl < 0] * 1.003\n",
    "cum_pnl = (pnl.sum(axis=1)).cumsum()\n",
    "ann_rtn = cum_pnl.diff().mean() * 252\n",
    "ann_std = cum_pnl.diff().std() * (252 ** 0.5)\n",
    "print(ann_rtn)\n",
    "print(ann_std)\n",
    "print(ann_rtn/ann_std)\n",
    "cum_pnl.plot()"
   ]
  },
  {
   "cell_type": "code",
   "execution_count": 653,
   "metadata": {},
   "outputs": [
    {
     "name": "stdout",
     "output_type": "stream",
     "text": [
      "0.15011610296299466\n",
      "0.26468710034455734\n",
      "0.5671455192473699\n"
     ]
    },
    {
     "data": {
      "text/plain": [
       "<matplotlib.axes._subplots.AxesSubplot at 0x7fbb25d0b748>"
      ]
     },
     "execution_count": 653,
     "metadata": {},
     "output_type": "execute_result"
    },
    {
     "data": {
      "image/png": "[encoded data removed]",
      "text/plain": [
       "<Figure size 432x288 with 1 Axes>"
      ]
     },
     "metadata": {},
     "output_type": "display_data"
    }
   ],
   "source": [
    "cum_pnl = (df_kospi_test.mean(axis=1)[\"2010-01-01\":]+1).cumprod()\n",
    "ann_rtn = cum_pnl.diff().mean() * 252\n",
    "ann_std = cum_pnl.diff().std() * (252 ** 0.5)\n",
    "print(ann_rtn)\n",
    "print(ann_std)\n",
    "print(ann_rtn/ann_std)\n",
    "cum_pnl.plot()"
   ]
  },
  {
   "cell_type": "code",
   "execution_count": null,
   "metadata": {},
   "outputs": [],
   "source": []
  }
 ],
 "metadata": {
  "kernelspec": {
   "display_name": "Python 3",
   "language": "python",
   "name": "python3"
  },
  "language_info": {
   "codemirror_mode": {
    "name": "ipython",
    "version": 3
   },
   "file_extension": ".py",
   "mimetype": "text/x-python",
   "name": "python",
   "nbconvert_exporter": "python",
   "pygments_lexer": "ipython3",
   "version": "3.6.5"
  }
 },
 "nbformat": 4,
 "nbformat_minor": 2
}
