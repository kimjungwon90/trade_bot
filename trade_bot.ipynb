{
 "cells": [
  {
   "cell_type": "code",
   "execution_count": 30,
   "metadata": {},
   "outputs": [
    {
     "name": "stdout",
     "output_type": "stream",
     "text": [
      "server connected.\n"
     ]
    }
   ],
   "source": [
    "import win32com.client\n",
    "import pandas as pd\n",
    "\n",
    "\n",
    "instCpCybos = win32com.client.Dispatch(\"CpUtil.CpCybos\")\n",
    "instCpCodeMgr = win32com.client.Dispatch(\"CpUtil.CpCodeMgr\")\n",
    "instStockChart = win32com.client.Dispatch(\"CpSysDib.StockChart\")\n",
    "\n",
    "\n",
    "if instCpCybos.IsConnect:\n",
    "    print(\"server connected.\")\n",
    "else:\n",
    "    print(\"SERVER NOT CONNECTED\")\n",
    "    \n",
    "\n",
    "def namify(df):\n",
    "    for x in df.index:\n",
    "        df.loc[x, \"name\"] = instCpCodeMgr.CodeToName(x)\n",
    "    return df\n",
    "\n",
    "\n",
    "def sectionify(df):\n",
    "    for x in df.index:\n",
    "        df.loc[x, \"section\"] = instCpCodeMgr.GetStockSectionKind(x)\n",
    "    return df\n",
    "\n",
    "\n",
    "instCpStockCode = win32com.client.Dispatch(\"CpUtil.CpStockCode\")\n",
    "instCpStockCode.GetCount() # no.of codes\n",
    "instCpStockCode.GetData(0, 0) # data get method\n",
    "\n",
    "# Stock Market Code: \n",
    "# 1 - KOSPI \n",
    "# 2 - KOSDAQ\n",
    "# 3 - KONEX\n",
    "kospi_list = instCpCodeMgr.GetStockListByMarket(1)\n",
    "kosdaq_list = instCpCodeMgr.GetStockListByMarket(2)\n",
    "konex_list = instCpCodeMgr.GetStockListByMarket(3)\n",
    "df_columns = [\"name\", \"section\"]\n",
    "\n",
    "\n",
    "df_kospi = pd.DataFrame(index=kospi_list, columns=df_columns)\n",
    "df_kosdaq = pd.DataFrame(index=kosdaq_list, columns=df_columns)\n",
    "df_konex = pd.DataFrame(index=konex_list, columns=df_columns)\n",
    "\n",
    "df_kospi = namify(df_kospi)\n",
    "df_kosdaq = namify(df_kosdaq)\n",
    "df_konex = namify(df_konex)\n",
    "\n",
    "df_kospi = sectionify(df_kospi)\n",
    "df_kosdaq = sectionify(df_kosdaq)\n",
    "df_konex = sectionify(df_konex)\n",
    "\n",
    "df_kospi.to_csv(\"./market_info/kospi.csv\")\n",
    "df_kosdaq.to_csv(\"./market_info/kosdaq.csv\")\n",
    "df_konex.to_csv(\"./market_info/konex.csv\")"
   ]
  },
  {
   "cell_type": "code",
   "execution_count": 31,
   "metadata": {},
   "outputs": [],
   "source": [
    "instStockChart.SetInputValue(0, \"A003540\")\n",
    "instStockChart.SetInputValue(1, ord('2'))\n",
    "instStockChart.SetInputValue(4, 10)\n",
    "instStockChart.SetINputValue(5, (0, 2, 3, 4, 5, 8))\n",
    "instStockChart.SetInputValue(6, ord(\"D\"))\n",
    "instStockChart.SetInputValue(9, ord('1'))"
   ]
  },
  {
   "cell_type": "code",
   "execution_count": 32,
   "metadata": {},
   "outputs": [],
   "source": [
    "instStockChart.BlockRequest()\n",
    "numData = instStockChart.GetHeaderValue(3)\n",
    "numField = instStockChart.GetHeaderValue(1)\n"
   ]
  }
 ],
 "metadata": {
  "kernelspec": {
   "display_name": "Python 3",
   "language": "python",
   "name": "python3"
  },
  "language_info": {
   "codemirror_mode": {
    "name": "ipython",
    "version": 3
   },
   "file_extension": ".py",
   "mimetype": "text/x-python",
   "name": "python",
   "nbconvert_exporter": "python",
   "pygments_lexer": "ipython3",
   "version": "3.6.5"
  }
 },
 "nbformat": 4,
 "nbformat_minor": 2
}
