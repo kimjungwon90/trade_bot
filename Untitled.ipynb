{
 "cells": [
  {
   "cell_type": "code",
   "execution_count": 15,
   "metadata": {},
   "outputs": [],
   "source": [
    "import win32com.client\n",
    "\n",
    "instCpTdUtil = win32com.client.Dispatch(\"CpTrade.CpTdUtil\")\n",
    "instCpTd0311 = win32com.client.Dispatch(\"CpTrade.CpTd0311\")\n",
    "\n",
    "instCpTdUtil.TradeInit()\n",
    "\n",
    "accountNumber = instCpTdUtil.AccountNumber[0]"
   ]
  },
  {
   "cell_type": "code",
   "execution_count": 18,
   "metadata": {},
   "outputs": [],
   "source": [
    "instCpTd0311.SetInputValue(0, 2)\n",
    "instCpTd0311.SetInputValue(1, accountNumber)"
   ]
  },
  {
   "cell_type": "code",
   "execution_count": null,
   "metadata": {},
   "outputs": [],
   "source": []
  }
 ],
 "metadata": {
  "kernelspec": {
   "display_name": "Python 3",
   "language": "python",
   "name": "python3"
  },
  "language_info": {
   "codemirror_mode": {
    "name": "ipython",
    "version": 3
   },
   "file_extension": ".py",
   "mimetype": "text/x-python",
   "name": "python",
   "nbconvert_exporter": "python",
   "pygments_lexer": "ipython3",
   "version": "3.6.5"
  }
 },
 "nbformat": 4,
 "nbformat_minor": 2
}
