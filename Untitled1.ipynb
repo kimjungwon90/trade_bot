{
 "cells": [
  {
   "cell_type": "code",
   "execution_count": 162,
   "metadata": {},
   "outputs": [],
   "source": [
    "import requests\n",
    "import pandas as pd\n",
    "import matplotlib.pyplot as plt\n",
    "import numpy as np\n",
    "from matplotlib import rc\n",
    "\n",
    "rc(\"font\", family=\"AppleGothic\")\n",
    "plt.rcParams[\"axes.unicode_minus\"] = False\n",
    "\n",
    "class bok_api():\n",
    "    \n",
    "    key = \"RK4O8KBR4N0O4E2W6V9E\"\n",
    "    url_base = \"http://ecos.bok.or.kr/api/\"\n",
    "    table = None\n",
    "    stat_code = None\n",
    "    data_format = {\n",
    "        \"DD\": \"%Y%m%d\",\n",
    "        \"MM\": \"%Y%m\",\n",
    "        \"YY\": \"%Y\"\n",
    "    }\n",
    "    \n",
    "    def __init__(self):\n",
    "        self.url = self.url_base + \"StatisticTableList/{}/json/kr/0/{}\".format(self.key, str(1000))\n",
    "        result = requests.get(self.url)\n",
    "        result = pd.DataFrame(result.json()[\"StatisticTableList\"][\"row\"])\n",
    "        self.table = result\n",
    "    \n",
    "    def get_stat_list_detail(self, rows=1000, stat_code=\"\"):\n",
    "        if stat_code == \"\":\n",
    "            raise ValueError(\"Stat code not provided! Please insert stat code!\")\n",
    "        self.url = self.url_base + \"StatisticItemList/{}/json/kr/0/{}/{}\".format(self.key, str(rows), stat_code)\n",
    "        self.stat_code = stat_code\n",
    "        result = requests.get(self.url)\n",
    "        result = pd.DataFrame(result.json()[\"StatisticItemList\"][\"row\"])\n",
    "        self.table_detail = result\n",
    "    \n",
    "    def get_stat_data(self, rows=10000, start=\"19000101\", end=\"30000101\", item_code=\"\", stat_code=\"\"):\n",
    "        if item_code == \"\":\n",
    "            raise ValueError(\"Item code not provided! Please insert item code!\")\n",
    "        if stat_code != \"\":\n",
    "            self.stat_code = stat_code\n",
    "        self.item_code = item_code\n",
    "        self.period = self.table_detail[self.table_detail[\"ITEM_CODE\"] == self.item_code][\"CYCLE\"].values[0]\n",
    "        data_format = self.data_format[self.period]\n",
    "        self.url = self.url_base + \"StatisticSearch/{}/json/kr/0/{}/{}/{}/{}/{}/{}\".format(self.key, rows, self.stat_code, self.period, start, end, self.item_code)\n",
    "        result = requests.get(self.url)\n",
    "        result = pd.DataFrame(result.json()[\"StatisticSearch\"][\"row\"])\n",
    "        self.data = result\n",
    "        self.data = self.data[[\"TIME\", \"DATA_VALUE\"]]\n",
    "        self.data.index = pd.to_datetime(self.data[\"TIME\"], format=data_format)\n",
    "        self.data = self.data[\"DATA_VALUE\"].replace(\"\", np.nan)\n",
    "        return self.data\n",
    "    "
   ]
  },
  {
   "cell_type": "code",
   "execution_count": 186,
   "metadata": {},
   "outputs": [
    {
     "ename": "SyntaxError",
     "evalue": "EOL while scanning string literal (<ipython-input-186-8f979980498c>, line 13)",
     "output_type": "error",
     "traceback": [
      "\u001b[0;36m  File \u001b[0;32m\"<ipython-input-186-8f979980498c>\"\u001b[0;36m, line \u001b[0;32m13\u001b[0m\n\u001b[0;31m    \"http://marketdata.krx.co.kr/contents/COM/GenerateOTP.jspx?bld=MKD%2F13%2F1301%2F13010102%2Fmkd13010102&name=form&_=1556268638283\u001b[0m\n\u001b[0m                                                                                                                                     ^\u001b[0m\n\u001b[0;31mSyntaxError\u001b[0m\u001b[0;31m:\u001b[0m EOL while scanning string literal\n"
     ]
    }
   ],
   "source": [
    "import requests\n",
    "from bs4 import BeautifulSoup\n",
    "import pandas as pd\n",
    "\n",
    "\n",
    "def to_float(element):\n",
    "    if (type(element) == str) and (len(element) != 0):\n",
    "        res = element.replace('\\\"', \"\")\n",
    "        return float(res)\n",
    "    \n",
    "class krx_indus_index():\n",
    "    \n",
    "    base_url = \"http://marketdata.krx.co.kr/contents/COM/GenerateOTP.jspx?name=fileDown&filetype=csv&url=MKD/13/1301/13010102/mkd13010102&type=2&ind_type=5042&period_strt_dd={}&period_end_dd={}&pagePath=%2Fcontents%2FMKD%2F13%2F1301%2F13010102%2FMKD13010102.jsp\"\n",
    "    json_data = dict()\n",
    "    headers_json = dict()\n",
    "    \n",
    "    def __init__(self):\n",
    "        pass\n",
    "    \n",
    "    def get_csv(self, start=\"19000101\", end=\"30000101\"):\n",
    "        "
   ]
  },
  {
   "cell_type": "code",
   "execution_count": 191,
   "metadata": {},
   "outputs": [],
   "source": [
    "url_test_1 = \"http://marketdata.krx.co.kr/contents/COM/GenerateOTP.jspx?name=fileDown&filetype=csv&url=MKD/13/1301/13010102/mkd13010102&type=2&ind_type=5042&period_strt_dd=20190419&period_end_dd=20190426&pagePath=%2Fcontents%2FMKD%2F13%2F1301%2F13010102%2FMKD13010102.jsp\""
   ]
  },
  {
   "cell_type": "code",
   "execution_count": null,
   "metadata": {},
   "outputs": [],
   "source": [
    "url_2 = \"http://marketdata.krx.co.kr/contents/COM/GenerateOTP.jspx?name=fileDown&filetype=csv&url=MKD/13/1301/13010102/mkd13010102&type=2&ind_type=5600&period_strt_dd=20190419&period_end_dd=20190426&pagePath=%2Fcontents%2FMKD%2F13%2F1301%2F13010102%2FMKD13010102.jsp\""
   ]
  },
  {
   "cell_type": "code",
   "execution_count": 190,
   "metadata": {},
   "outputs": [
    {
     "data": {
      "text/plain": [
       "'a/b/c/d'"
      ]
     },
     "execution_count": 190,
     "metadata": {},
     "output_type": "execute_result"
    }
   ],
   "source": [
    "url.format(\"a\", \"c\")"
   ]
  },
  {
   "cell_type": "code",
   "execution_count": null,
   "metadata": {},
   "outputs": [],
   "source": []
  }
 ],
 "metadata": {
  "kernelspec": {
   "display_name": "Python 3",
   "language": "python",
   "name": "python3"
  },
  "language_info": {
   "codemirror_mode": {
    "name": "ipython",
    "version": 3
   },
   "file_extension": ".py",
   "mimetype": "text/x-python",
   "name": "python",
   "nbconvert_exporter": "python",
   "pygments_lexer": "ipython3",
   "version": "3.6.5"
  }
 },
 "nbformat": 4,
 "nbformat_minor": 2
}
